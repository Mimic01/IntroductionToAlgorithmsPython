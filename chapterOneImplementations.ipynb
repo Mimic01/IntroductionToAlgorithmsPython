{
 "nbformat": 4,
 "nbformat_minor": 2,
 "metadata": {
  "language_info": {
   "name": "python",
   "codemirror_mode": {
    "name": "ipython",
    "version": 3
   },
   "version": "3.7.4-final"
  },
  "orig_nbformat": 2,
  "file_extension": ".py",
  "mimetype": "text/x-python",
  "name": "python",
  "npconvert_exporter": "python",
  "pygments_lexer": "ipython3",
  "version": 3,
  "kernelspec": {
   "name": "python37464bitbasecondaa8f683fe639549acbd6430131c9241dc",
   "display_name": "Python 3.7.4 64-bit ('base': conda)"
  }
 },
 "cells": [
  {
   "cell_type": "code",
   "execution_count": 1,
   "metadata": {},
   "outputs": [
    {
     "name": "stdout",
     "output_type": "stream",
     "text": "Sorted array is:\n5\n6\n11\n12\n13\n"
    }
   ],
   "source": [
    "# Insertion Sort\n",
    "def insertionSort(arr):\n",
    "    for i in range(1, len(arr)):\n",
    "        key = arr[i]\n",
    "        # Move elements of arr[0...i-1] that are greater than key, to one position ahead of their current position\n",
    "        j = i-1\n",
    "        while j >= 0 and key < arr[j]:\n",
    "            arr[j+1] = arr[j]\n",
    "            j -= 1\n",
    "        arr[j+1] = key\n",
    "arr = [12, 11, 13, 5, 6]\n",
    "insertionSort(arr)\n",
    "print(\"Sorted array is:\")\n",
    "for i in range(len(arr)):\n",
    "    print(\"%d\" %arr[i])"
   ]
  },
  {
   "cell_type": "code",
   "execution_count": 9,
   "metadata": {},
   "outputs": [
    {
     "name": "stdout",
     "output_type": "stream",
     "text": "Given array is\n12\n11\n13\n5\n6\n7\n\n\nSorted array is\n5\n6\n7\n13\n6\n7\n"
    }
   ],
   "source": [
    "# Merge Sort\n",
    "def merge(arr, l, m ,r):\n",
    "    # First subarray is arr[l..m]\n",
    "    # Second subarray is arr[m+1..r]\n",
    "    n1 = m - l + 1\n",
    "    n2 = r - m\n",
    "\n",
    "    #Create temp arrays\n",
    "    L = [0] * (n1)\n",
    "    R = [0] * (n2)\n",
    "\n",
    "    # Copy data to temp arrays L[] and R[]\n",
    "    for i in range(0, n1):\n",
    "        L[i] = arr[l + i]\n",
    "    for j in range(0, n2):\n",
    "        R[j] = arr[m + 1 + j]\n",
    "    # Merge the temp arrays back into arr[l..r]\n",
    "    i = 0 # Initial index of first subarray\n",
    "    j = 0 # Initial index of second subarray\n",
    "    k = l # Initial indez of merged subarray\n",
    "\n",
    "    while i < n1 and j < n2:\n",
    "        if L[i] <= R[j]:\n",
    "            arr[k] = L[i]\n",
    "            i += 1\n",
    "        else:\n",
    "            arr[k] = R[j]\n",
    "            j += 1\n",
    "        k += 1\n",
    "    # Copy the remaining elements of L[] if there is any\n",
    "    while i < n1:\n",
    "        arr[k] = L[i]\n",
    "        i += 1\n",
    "        j += 1\n",
    "    # Copy the remaining elements of R[] if there is any\n",
    "    while j < n2:\n",
    "        arr[k] = R[j]\n",
    "        j += 1\n",
    "        k += 1\n",
    "    # l is for left index and r is right index of the subarray of the arr to be sorted\n",
    "def mergeSort(arr,l,r):\n",
    "    if l < r:\n",
    "        # Same as (l+r)/2, but avois overflow for large l and h\n",
    "        m = (l+(r-1))//2\n",
    "        # Sort first and second halves \n",
    "        mergeSort(arr, l, m)\n",
    "        mergeSort(arr, (m+1), r)\n",
    "        merge(arr, l, m, r)\n",
    "# Driver code\n",
    "arr = [12, 11, 13, 5, 6, 7]\n",
    "n = len(arr)\n",
    "print(\"Given array is\")\n",
    "for i in range(n):\n",
    "    print(\"%d\" %arr[i]),\n",
    "mergeSort(arr,0,(n-1))\n",
    "print(\"\\n\\nSorted array is\")\n",
    "for i in range(n):\n",
    "    print(\"%d\" %arr[i]),\n",
    "\n"
   ]
  },
  {
   "cell_type": "code",
   "execution_count": null,
   "metadata": {},
   "outputs": [],
   "source": []
  }
 ]
}